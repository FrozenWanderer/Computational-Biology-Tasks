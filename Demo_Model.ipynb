{
 "cells": [
  {
   "cell_type": "code",
   "execution_count": 1,
   "id": "c515bf67",
   "metadata": {},
   "outputs": [],
   "source": [
    "from cobra import*"
   ]
  },
  {
   "cell_type": "code",
   "execution_count": 2,
   "id": "dc3a6f0f",
   "metadata": {},
   "outputs": [],
   "source": [
    "model = Model('Demo_Model')"
   ]
  },
  {
   "cell_type": "code",
   "execution_count": 3,
   "id": "1b3e7c6d",
   "metadata": {},
   "outputs": [],
   "source": [
    "v0 = Reaction('v0')"
   ]
  },
  {
   "cell_type": "code",
   "execution_count": 4,
   "id": "2ec039d5",
   "metadata": {},
   "outputs": [],
   "source": [
    "v0.name = 'v0'"
   ]
  },
  {
   "cell_type": "code",
   "execution_count": 5,
   "id": "4fb195b4",
   "metadata": {},
   "outputs": [],
   "source": [
    "v0.lower_bound = 1"
   ]
  },
  {
   "cell_type": "code",
   "execution_count": 6,
   "id": "c7788459",
   "metadata": {},
   "outputs": [],
   "source": [
    "v0.upper_bound = 1"
   ]
  },
  {
   "cell_type": "code",
   "execution_count": 7,
   "id": "11117a81",
   "metadata": {},
   "outputs": [],
   "source": [
    "v1 = Reaction('v1')"
   ]
  },
  {
   "cell_type": "code",
   "execution_count": 8,
   "id": "ee5b6060",
   "metadata": {},
   "outputs": [],
   "source": [
    "v1.name = 'v1'"
   ]
  },
  {
   "cell_type": "code",
   "execution_count": 9,
   "id": "1fdf1100",
   "metadata": {},
   "outputs": [],
   "source": [
    "v2 = Reaction('v2')"
   ]
  },
  {
   "cell_type": "code",
   "execution_count": 10,
   "id": "58a37ce9",
   "metadata": {},
   "outputs": [],
   "source": [
    "v2.name = 'v2'"
   ]
  },
  {
   "cell_type": "code",
   "execution_count": 11,
   "id": "3a4788df",
   "metadata": {},
   "outputs": [],
   "source": [
    "v3 = Reaction('v3')"
   ]
  },
  {
   "cell_type": "code",
   "execution_count": 12,
   "id": "2e9c150e",
   "metadata": {},
   "outputs": [],
   "source": [
    "v3.name = 'v3'"
   ]
  },
  {
   "cell_type": "code",
   "execution_count": 13,
   "id": "43a695e0",
   "metadata": {},
   "outputs": [],
   "source": [
    "v4 = Reaction('M')"
   ]
  },
  {
   "cell_type": "code",
   "execution_count": 14,
   "id": "86a3f71f",
   "metadata": {},
   "outputs": [],
   "source": [
    "v4.name = 'M'"
   ]
  },
  {
   "cell_type": "code",
   "execution_count": 15,
   "id": "6ab3047c",
   "metadata": {},
   "outputs": [],
   "source": [
    "vATP = Reaction('vATP')"
   ]
  },
  {
   "cell_type": "code",
   "execution_count": 16,
   "id": "1ca27598",
   "metadata": {},
   "outputs": [],
   "source": [
    "vATP.name = 'v3'"
   ]
  },
  {
   "cell_type": "code",
   "execution_count": 17,
   "id": "41a9ad0c",
   "metadata": {},
   "outputs": [],
   "source": [
    "vATP.lower_bound = 0.9"
   ]
  },
  {
   "cell_type": "code",
   "execution_count": 18,
   "id": "133f1fd2",
   "metadata": {},
   "outputs": [],
   "source": [
    "vATP.upper_bound = 0.9"
   ]
  },
  {
   "cell_type": "code",
   "execution_count": 19,
   "id": "50907613",
   "metadata": {},
   "outputs": [],
   "source": [
    "A = Metabolite('A',compartment='c')"
   ]
  },
  {
   "cell_type": "code",
   "execution_count": 20,
   "id": "3d3e0369",
   "metadata": {},
   "outputs": [],
   "source": [
    "B = Metabolite('B',compartment='c')"
   ]
  },
  {
   "cell_type": "code",
   "execution_count": 21,
   "id": "4f737cc3",
   "metadata": {},
   "outputs": [],
   "source": [
    "C = Metabolite('C',compartment='c')"
   ]
  },
  {
   "cell_type": "code",
   "execution_count": 22,
   "id": "cd670b8a",
   "metadata": {},
   "outputs": [],
   "source": [
    "ATP = Metabolite('ATP',compartment='c')"
   ]
  },
  {
   "cell_type": "code",
   "execution_count": 23,
   "id": "984189f5",
   "metadata": {},
   "outputs": [],
   "source": [
    "v0.add_metabolites({A:1})"
   ]
  },
  {
   "cell_type": "code",
   "execution_count": 24,
   "id": "5d62daf5",
   "metadata": {},
   "outputs": [],
   "source": [
    "v1.add_metabolites({A:-1,B:1})"
   ]
  },
  {
   "cell_type": "code",
   "execution_count": 25,
   "id": "763db0d1",
   "metadata": {},
   "outputs": [],
   "source": [
    "v2.add_metabolites({B:-1,C:1})"
   ]
  },
  {
   "cell_type": "code",
   "execution_count": 26,
   "id": "d115de69",
   "metadata": {},
   "outputs": [],
   "source": [
    "v3.add_metabolites({A:-1,ATP:1})"
   ]
  },
  {
   "cell_type": "code",
   "execution_count": 27,
   "id": "9f696202",
   "metadata": {},
   "outputs": [],
   "source": [
    "vATP.add_metabolites({ATP:-1})"
   ]
  },
  {
   "cell_type": "code",
   "execution_count": 28,
   "id": "9b1ed989",
   "metadata": {},
   "outputs": [],
   "source": [
    "v4.add_metabolites({C:-1})"
   ]
  },
  {
   "cell_type": "code",
   "execution_count": 29,
   "id": "4ac8c84a",
   "metadata": {},
   "outputs": [],
   "source": [
    "model.add_reactions([v0,v1,v2,vATP,v3,v4])"
   ]
  },
  {
   "cell_type": "code",
   "execution_count": 30,
   "id": "87050dd7",
   "metadata": {},
   "outputs": [],
   "source": [
    "model.objective = 'M'"
   ]
  },
  {
   "cell_type": "code",
   "execution_count": 31,
   "id": "1e0b44e8",
   "metadata": {},
   "outputs": [
    {
     "data": {
      "text/html": [
       "\n",
       "        <table>\n",
       "            <tr>\n",
       "                <td><strong>Reaction identifier</strong></td><td>v1</td>\n",
       "            </tr><tr>\n",
       "                <td><strong>Name</strong></td><td>v1</td>\n",
       "            </tr><tr>\n",
       "                <td><strong>Memory address</strong></td>\n",
       "                <td>0x01a9ca74c640</td>\n",
       "            </tr><tr>\n",
       "                <td><strong>Stoichiometry</strong></td>\n",
       "                <td>\n",
       "                    <p style='text-align:right'>A --> B</p>\n",
       "                    <p style='text-align:right'>--></p>\n",
       "                </td>\n",
       "            </tr><tr>\n",
       "                <td><strong>GPR</strong></td><td></td>\n",
       "            </tr><tr>\n",
       "                <td><strong>Lower bound</strong></td><td>0.0</td>\n",
       "            </tr><tr>\n",
       "                <td><strong>Upper bound</strong></td><td>1000.0</td>\n",
       "            </tr>\n",
       "        </table>\n",
       "        "
      ],
      "text/plain": [
       "<Reaction v1 at 0x1a9ca74c640>"
      ]
     },
     "execution_count": 31,
     "metadata": {},
     "output_type": "execute_result"
    }
   ],
   "source": [
    "v1"
   ]
  },
  {
   "cell_type": "code",
   "execution_count": 32,
   "id": "1df9e930",
   "metadata": {},
   "outputs": [
    {
     "data": {
      "text/html": [
       "\n",
       "        <table>\n",
       "            <tr>\n",
       "                <td><strong>Reaction identifier</strong></td><td>v2</td>\n",
       "            </tr><tr>\n",
       "                <td><strong>Name</strong></td><td>v2</td>\n",
       "            </tr><tr>\n",
       "                <td><strong>Memory address</strong></td>\n",
       "                <td>0x01a9ca74cd00</td>\n",
       "            </tr><tr>\n",
       "                <td><strong>Stoichiometry</strong></td>\n",
       "                <td>\n",
       "                    <p style='text-align:right'>B --> C</p>\n",
       "                    <p style='text-align:right'>--></p>\n",
       "                </td>\n",
       "            </tr><tr>\n",
       "                <td><strong>GPR</strong></td><td></td>\n",
       "            </tr><tr>\n",
       "                <td><strong>Lower bound</strong></td><td>0.0</td>\n",
       "            </tr><tr>\n",
       "                <td><strong>Upper bound</strong></td><td>1000.0</td>\n",
       "            </tr>\n",
       "        </table>\n",
       "        "
      ],
      "text/plain": [
       "<Reaction v2 at 0x1a9ca74cd00>"
      ]
     },
     "execution_count": 32,
     "metadata": {},
     "output_type": "execute_result"
    }
   ],
   "source": [
    "v2"
   ]
  },
  {
   "cell_type": "code",
   "execution_count": 33,
   "id": "15ac0254",
   "metadata": {
    "scrolled": true
   },
   "outputs": [
    {
     "data": {
      "text/html": [
       "\n",
       "        <table>\n",
       "            <tr>\n",
       "                <td><strong>Reaction identifier</strong></td><td>v3</td>\n",
       "            </tr><tr>\n",
       "                <td><strong>Name</strong></td><td>v3</td>\n",
       "            </tr><tr>\n",
       "                <td><strong>Memory address</strong></td>\n",
       "                <td>0x01a9ca757490</td>\n",
       "            </tr><tr>\n",
       "                <td><strong>Stoichiometry</strong></td>\n",
       "                <td>\n",
       "                    <p style='text-align:right'>A --> ATP</p>\n",
       "                    <p style='text-align:right'>--></p>\n",
       "                </td>\n",
       "            </tr><tr>\n",
       "                <td><strong>GPR</strong></td><td></td>\n",
       "            </tr><tr>\n",
       "                <td><strong>Lower bound</strong></td><td>0.0</td>\n",
       "            </tr><tr>\n",
       "                <td><strong>Upper bound</strong></td><td>1000.0</td>\n",
       "            </tr>\n",
       "        </table>\n",
       "        "
      ],
      "text/plain": [
       "<Reaction v3 at 0x1a9ca757490>"
      ]
     },
     "execution_count": 33,
     "metadata": {},
     "output_type": "execute_result"
    }
   ],
   "source": [
    "v3"
   ]
  },
  {
   "cell_type": "code",
   "execution_count": 34,
   "id": "ee2fba00",
   "metadata": {
    "scrolled": true
   },
   "outputs": [
    {
     "data": {
      "text/html": [
       "\n",
       "        <table>\n",
       "            <tr>\n",
       "                <td><strong>Reaction identifier</strong></td><td>M</td>\n",
       "            </tr><tr>\n",
       "                <td><strong>Name</strong></td><td>M</td>\n",
       "            </tr><tr>\n",
       "                <td><strong>Memory address</strong></td>\n",
       "                <td>0x01a9ca757a00</td>\n",
       "            </tr><tr>\n",
       "                <td><strong>Stoichiometry</strong></td>\n",
       "                <td>\n",
       "                    <p style='text-align:right'>C --></p>\n",
       "                    <p style='text-align:right'>--></p>\n",
       "                </td>\n",
       "            </tr><tr>\n",
       "                <td><strong>GPR</strong></td><td></td>\n",
       "            </tr><tr>\n",
       "                <td><strong>Lower bound</strong></td><td>0.0</td>\n",
       "            </tr><tr>\n",
       "                <td><strong>Upper bound</strong></td><td>1000.0</td>\n",
       "            </tr>\n",
       "        </table>\n",
       "        "
      ],
      "text/plain": [
       "<Reaction M at 0x1a9ca757a00>"
      ]
     },
     "execution_count": 34,
     "metadata": {},
     "output_type": "execute_result"
    }
   ],
   "source": [
    "v4"
   ]
  },
  {
   "cell_type": "code",
   "execution_count": 35,
   "id": "469162a4",
   "metadata": {},
   "outputs": [
    {
     "data": {
      "text/html": [
       "\n",
       "        <table>\n",
       "            <tr>\n",
       "                <td><strong>Reaction identifier</strong></td><td>vATP</td>\n",
       "            </tr><tr>\n",
       "                <td><strong>Name</strong></td><td>v3</td>\n",
       "            </tr><tr>\n",
       "                <td><strong>Memory address</strong></td>\n",
       "                <td>0x01a9ca757eb0</td>\n",
       "            </tr><tr>\n",
       "                <td><strong>Stoichiometry</strong></td>\n",
       "                <td>\n",
       "                    <p style='text-align:right'>ATP --></p>\n",
       "                    <p style='text-align:right'>--></p>\n",
       "                </td>\n",
       "            </tr><tr>\n",
       "                <td><strong>GPR</strong></td><td></td>\n",
       "            </tr><tr>\n",
       "                <td><strong>Lower bound</strong></td><td>0.9</td>\n",
       "            </tr><tr>\n",
       "                <td><strong>Upper bound</strong></td><td>0.9</td>\n",
       "            </tr>\n",
       "        </table>\n",
       "        "
      ],
      "text/plain": [
       "<Reaction vATP at 0x1a9ca757eb0>"
      ]
     },
     "execution_count": 35,
     "metadata": {},
     "output_type": "execute_result"
    }
   ],
   "source": [
    "vATP"
   ]
  },
  {
   "cell_type": "code",
   "execution_count": 36,
   "id": "4fda4c8f",
   "metadata": {},
   "outputs": [
    {
     "data": {
      "text/html": [
       "\n",
       "        <table>\n",
       "            <tr>\n",
       "                <td><strong>Reaction identifier</strong></td><td>v0</td>\n",
       "            </tr><tr>\n",
       "                <td><strong>Name</strong></td><td>v0</td>\n",
       "            </tr><tr>\n",
       "                <td><strong>Memory address</strong></td>\n",
       "                <td>0x01a9ca73a760</td>\n",
       "            </tr><tr>\n",
       "                <td><strong>Stoichiometry</strong></td>\n",
       "                <td>\n",
       "                    <p style='text-align:right'>--> A</p>\n",
       "                    <p style='text-align:right'>--></p>\n",
       "                </td>\n",
       "            </tr><tr>\n",
       "                <td><strong>GPR</strong></td><td></td>\n",
       "            </tr><tr>\n",
       "                <td><strong>Lower bound</strong></td><td>1</td>\n",
       "            </tr><tr>\n",
       "                <td><strong>Upper bound</strong></td><td>1</td>\n",
       "            </tr>\n",
       "        </table>\n",
       "        "
      ],
      "text/plain": [
       "<Reaction v0 at 0x1a9ca73a760>"
      ]
     },
     "execution_count": 36,
     "metadata": {},
     "output_type": "execute_result"
    }
   ],
   "source": [
    "v0"
   ]
  },
  {
   "cell_type": "code",
   "execution_count": 37,
   "id": "a9675933",
   "metadata": {
    "scrolled": true
   },
   "outputs": [
    {
     "data": {
      "text/html": [
       "\n",
       "        <table>\n",
       "            <tr>\n",
       "                <td><strong>Name</strong></td>\n",
       "                <td>Demo_Model</td>\n",
       "            </tr><tr>\n",
       "                <td><strong>Memory address</strong></td>\n",
       "                <td>0x01a9ca73a4c0</td>\n",
       "            </tr><tr>\n",
       "                <td><strong>Number of metabolites</strong></td>\n",
       "                <td>4</td>\n",
       "            </tr><tr>\n",
       "                <td><strong>Number of reactions</strong></td>\n",
       "                <td>6</td>\n",
       "            </tr><tr>\n",
       "                <td><strong>Number of groups</strong></td>\n",
       "                <td>0</td>\n",
       "            </tr><tr>\n",
       "                <td><strong>Objective expression</strong></td>\n",
       "                <td>1.0*M - 1.0*M_reverse_69691</td>\n",
       "            </tr><tr>\n",
       "                <td><strong>Compartments</strong></td>\n",
       "                <td>c</td>\n",
       "            </tr>\n",
       "          </table>"
      ],
      "text/plain": [
       "<Model Demo_Model at 0x1a9ca73a4c0>"
      ]
     },
     "execution_count": 37,
     "metadata": {},
     "output_type": "execute_result"
    }
   ],
   "source": [
    "model"
   ]
  },
  {
   "cell_type": "code",
   "execution_count": 38,
   "id": "13d62096",
   "metadata": {},
   "outputs": [
    {
     "data": {
      "text/html": [
       "<strong><em>Optimal</em> solution with objective value 0.100</strong><br><div>\n",
       "<style scoped>\n",
       "    .dataframe tbody tr th:only-of-type {\n",
       "        vertical-align: middle;\n",
       "    }\n",
       "\n",
       "    .dataframe tbody tr th {\n",
       "        vertical-align: top;\n",
       "    }\n",
       "\n",
       "    .dataframe thead th {\n",
       "        text-align: right;\n",
       "    }\n",
       "</style>\n",
       "<table border=\"1\" class=\"dataframe\">\n",
       "  <thead>\n",
       "    <tr style=\"text-align: right;\">\n",
       "      <th></th>\n",
       "      <th>fluxes</th>\n",
       "      <th>reduced_costs</th>\n",
       "    </tr>\n",
       "  </thead>\n",
       "  <tbody>\n",
       "    <tr>\n",
       "      <th>v0</th>\n",
       "      <td>1.0</td>\n",
       "      <td>2.0</td>\n",
       "    </tr>\n",
       "    <tr>\n",
       "      <th>v1</th>\n",
       "      <td>0.1</td>\n",
       "      <td>0.0</td>\n",
       "    </tr>\n",
       "    <tr>\n",
       "      <th>v2</th>\n",
       "      <td>0.1</td>\n",
       "      <td>0.0</td>\n",
       "    </tr>\n",
       "    <tr>\n",
       "      <th>vATP</th>\n",
       "      <td>0.9</td>\n",
       "      <td>-2.0</td>\n",
       "    </tr>\n",
       "    <tr>\n",
       "      <th>v3</th>\n",
       "      <td>0.9</td>\n",
       "      <td>0.0</td>\n",
       "    </tr>\n",
       "    <tr>\n",
       "      <th>M</th>\n",
       "      <td>0.1</td>\n",
       "      <td>0.0</td>\n",
       "    </tr>\n",
       "  </tbody>\n",
       "</table>\n",
       "</div>"
      ],
      "text/plain": [
       "<Solution 0.100 at 0x1a9cb876fa0>"
      ]
     },
     "execution_count": 38,
     "metadata": {},
     "output_type": "execute_result"
    }
   ],
   "source": [
    "model.optimize()"
   ]
  },
  {
   "cell_type": "code",
   "execution_count": 39,
   "id": "65f3f8df",
   "metadata": {},
   "outputs": [
    {
     "data": {
      "text/html": [
       "<h3>Objective</h3><p>1.0 M = 0.09999999999999998</p><h4>Uptake</h4><table border=\"1\" class=\"dataframe\">\n",
       "  <thead>\n",
       "    <tr style=\"text-align: right;\">\n",
       "      <th>Metabolite</th>\n",
       "      <th>Reaction</th>\n",
       "      <th>Flux</th>\n",
       "      <th>C-Number</th>\n",
       "      <th>C-Flux</th>\n",
       "    </tr>\n",
       "  </thead>\n",
       "  <tbody>\n",
       "    <tr>\n",
       "      <td>A</td>\n",
       "      <td>v0</td>\n",
       "      <td>1</td>\n",
       "      <td>0</td>\n",
       "      <td>0.00%</td>\n",
       "    </tr>\n",
       "  </tbody>\n",
       "</table><h4>Secretion</h4><table border=\"1\" class=\"dataframe\">\n",
       "  <thead>\n",
       "    <tr style=\"text-align: right;\">\n",
       "      <th>Metabolite</th>\n",
       "      <th>Reaction</th>\n",
       "      <th>Flux</th>\n",
       "      <th>C-Number</th>\n",
       "      <th>C-Flux</th>\n",
       "    </tr>\n",
       "  </thead>\n",
       "  <tbody>\n",
       "    <tr>\n",
       "      <td>C</td>\n",
       "      <td>M</td>\n",
       "      <td>-0.1</td>\n",
       "      <td>0</td>\n",
       "      <td>0.00%</td>\n",
       "    </tr>\n",
       "    <tr>\n",
       "      <td>ATP</td>\n",
       "      <td>vATP</td>\n",
       "      <td>-0.9</td>\n",
       "      <td>0</td>\n",
       "      <td>0.00%</td>\n",
       "    </tr>\n",
       "  </tbody>\n",
       "</table>"
      ],
      "text/plain": [
       "<cobra.summary.model_summary.ModelSummary at 0x1a9cb89e550>"
      ]
     },
     "execution_count": 39,
     "metadata": {},
     "output_type": "execute_result"
    }
   ],
   "source": [
    "model.summary()"
   ]
  },
  {
   "cell_type": "code",
   "execution_count": null,
   "id": "8be349a6",
   "metadata": {},
   "outputs": [],
   "source": []
  }
 ],
 "metadata": {
  "kernelspec": {
   "display_name": "Python 3 (ipykernel)",
   "language": "python",
   "name": "python3"
  },
  "language_info": {
   "codemirror_mode": {
    "name": "ipython",
    "version": 3
   },
   "file_extension": ".py",
   "mimetype": "text/x-python",
   "name": "python",
   "nbconvert_exporter": "python",
   "pygments_lexer": "ipython3",
   "version": "3.9.7"
  }
 },
 "nbformat": 4,
 "nbformat_minor": 5
}
