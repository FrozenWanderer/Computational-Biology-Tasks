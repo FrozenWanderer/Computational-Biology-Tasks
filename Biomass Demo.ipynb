{
 "cells": [
  {
   "cell_type": "code",
   "execution_count": 21,
   "id": "fecd0410",
   "metadata": {},
   "outputs": [],
   "source": []
  },
  {
   "cell_type": "code",
   "execution_count": 20,
   "id": "fe1f5c5c",
   "metadata": {},
   "outputs": [],
   "source": [
    "from cobra import*"
   ]
  },
  {
   "cell_type": "code",
   "execution_count": 2,
   "id": "8cc5e4f4",
   "metadata": {},
   "outputs": [],
   "source": [
    "import escher"
   ]
  },
  {
   "cell_type": "code",
   "execution_count": 3,
   "id": "47e53115",
   "metadata": {},
   "outputs": [],
   "source": [
    "model = Model(\"Biomass_Demo\")"
   ]
  },
  {
   "cell_type": "code",
   "execution_count": 4,
   "id": "d01e8b86",
   "metadata": {},
   "outputs": [],
   "source": [
    "v0 = Reaction(\"Glu\")"
   ]
  },
  {
   "cell_type": "code",
   "execution_count": 5,
   "id": "e49ab250",
   "metadata": {},
   "outputs": [],
   "source": [
    "v0.lower_bound = 1\n",
    "v0.upper_bound = 1"
   ]
  },
  {
   "cell_type": "code",
   "execution_count": 6,
   "id": "8963cc54",
   "metadata": {},
   "outputs": [],
   "source": [
    "v1 = Reaction(\"Glu_To_AA\")"
   ]
  },
  {
   "cell_type": "code",
   "execution_count": 7,
   "id": "6e1ae440",
   "metadata": {},
   "outputs": [],
   "source": [
    "v2 = Reaction(\"AA_To_Biomass\")"
   ]
  },
  {
   "cell_type": "code",
   "execution_count": 8,
   "id": "419e3f52",
   "metadata": {},
   "outputs": [],
   "source": [
    "M = Reaction(\"Biomass_Out\")"
   ]
  },
  {
   "cell_type": "code",
   "execution_count": 9,
   "id": "7f663b62",
   "metadata": {},
   "outputs": [],
   "source": [
    "Glu = Metabolite(\"Glu\", compartment=\"c\")"
   ]
  },
  {
   "cell_type": "code",
   "execution_count": 10,
   "id": "61137928",
   "metadata": {},
   "outputs": [],
   "source": [
    "AA = Metabolite(\"AA\", compartment=\"c\")"
   ]
  },
  {
   "cell_type": "code",
   "execution_count": 11,
   "id": "42f4fe2b",
   "metadata": {},
   "outputs": [],
   "source": [
    "Biomass = Metabolite(\"Biomass\", compartment=\"c\")"
   ]
  },
  {
   "cell_type": "code",
   "execution_count": 12,
   "id": "2d59a9e5",
   "metadata": {},
   "outputs": [],
   "source": [
    "v0.add_metabolites({Glu:1})"
   ]
  },
  {
   "cell_type": "code",
   "execution_count": 13,
   "id": "ce3f1670",
   "metadata": {},
   "outputs": [],
   "source": [
    "v1.add_metabolites({Glu:-1, AA:1})"
   ]
  },
  {
   "cell_type": "code",
   "execution_count": 14,
   "id": "5b740a4c",
   "metadata": {},
   "outputs": [],
   "source": [
    "v2.add_metabolites({AA:-9.09, Biomass:1})"
   ]
  },
  {
   "cell_type": "code",
   "execution_count": 15,
   "id": "8f0ab3d0",
   "metadata": {},
   "outputs": [],
   "source": [
    "M.add_metabolites({Biomass:-1})"
   ]
  },
  {
   "cell_type": "code",
   "execution_count": 16,
   "id": "8be3aa71",
   "metadata": {},
   "outputs": [],
   "source": [
    "model.add_reactions([v0,v1,v2,M])"
   ]
  },
  {
   "cell_type": "code",
   "execution_count": 17,
   "id": "4167b983",
   "metadata": {},
   "outputs": [],
   "source": [
    "model.objective = \"Biomass_Out\""
   ]
  },
  {
   "cell_type": "code",
   "execution_count": 18,
   "id": "b7b2f28f",
   "metadata": {},
   "outputs": [
    {
     "data": {
      "text/html": [
       "<strong><em>Optimal</em> solution with objective value 0.110</strong><br><div>\n",
       "<style scoped>\n",
       "    .dataframe tbody tr th:only-of-type {\n",
       "        vertical-align: middle;\n",
       "    }\n",
       "\n",
       "    .dataframe tbody tr th {\n",
       "        vertical-align: top;\n",
       "    }\n",
       "\n",
       "    .dataframe thead th {\n",
       "        text-align: right;\n",
       "    }\n",
       "</style>\n",
       "<table border=\"1\" class=\"dataframe\">\n",
       "  <thead>\n",
       "    <tr style=\"text-align: right;\">\n",
       "      <th></th>\n",
       "      <th>fluxes</th>\n",
       "      <th>reduced_costs</th>\n",
       "    </tr>\n",
       "  </thead>\n",
       "  <tbody>\n",
       "    <tr>\n",
       "      <th>Glu</th>\n",
       "      <td>1.000000</td>\n",
       "      <td>0.220022</td>\n",
       "    </tr>\n",
       "    <tr>\n",
       "      <th>Glu_To_AA</th>\n",
       "      <td>1.000000</td>\n",
       "      <td>0.000000</td>\n",
       "    </tr>\n",
       "    <tr>\n",
       "      <th>AA_To_Biomass</th>\n",
       "      <td>0.110011</td>\n",
       "      <td>0.000000</td>\n",
       "    </tr>\n",
       "    <tr>\n",
       "      <th>Biomass_Out</th>\n",
       "      <td>0.110011</td>\n",
       "      <td>0.000000</td>\n",
       "    </tr>\n",
       "  </tbody>\n",
       "</table>\n",
       "</div>"
      ],
      "text/plain": [
       "<Solution 0.110 at 0x27ccea7c760>"
      ]
     },
     "execution_count": 18,
     "metadata": {},
     "output_type": "execute_result"
    }
   ],
   "source": [
    "model.optimize()"
   ]
  },
  {
   "cell_type": "code",
   "execution_count": 22,
   "id": "9dcc9f27",
   "metadata": {},
   "outputs": [],
   "source": [
    "cobra.io.save_json_model(model,\"biomass.json\")"
   ]
  },
  {
   "cell_type": "code",
   "execution_count": 23,
   "id": "a6c20952",
   "metadata": {},
   "outputs": [],
   "source": [
    "import escher"
   ]
  },
  {
   "cell_type": "code",
   "execution_count": 24,
   "id": "39230b6e",
   "metadata": {},
   "outputs": [],
   "source": [
    "from escher import Builder"
   ]
  },
  {
   "cell_type": "code",
   "execution_count": 25,
   "id": "8608a2e7",
   "metadata": {},
   "outputs": [],
   "source": [
    "build = Builder()"
   ]
  },
  {
   "cell_type": "code",
   "execution_count": 26,
   "id": "4567e659",
   "metadata": {},
   "outputs": [
    {
     "data": {
      "application/vnd.jupyter.widget-view+json": {
       "model_id": "43b7df683caf4b62b136bdf0a14211ba",
       "version_major": 2,
       "version_minor": 0
      },
      "text/plain": [
       "Builder()"
      ]
     },
     "metadata": {},
     "output_type": "display_data"
    }
   ],
   "source": [
    "build"
   ]
  },
  {
   "cell_type": "code",
   "execution_count": null,
   "id": "38212978",
   "metadata": {},
   "outputs": [],
   "source": []
  }
 ],
 "metadata": {
  "kernelspec": {
   "display_name": "Python 3 (ipykernel)",
   "language": "python",
   "name": "python3"
  },
  "language_info": {
   "codemirror_mode": {
    "name": "ipython",
    "version": 3
   },
   "file_extension": ".py",
   "mimetype": "text/x-python",
   "name": "python",
   "nbconvert_exporter": "python",
   "pygments_lexer": "ipython3",
   "version": "3.9.7"
  }
 },
 "nbformat": 4,
 "nbformat_minor": 5
}
